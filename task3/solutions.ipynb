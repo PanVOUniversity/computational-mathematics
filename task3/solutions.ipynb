{
  "cells": [
    {
      "cell_type": "markdown",
      "metadata": {},
      "source": [
        "# Решения по NumPy (Тема #3)\n",
        "\n",
        "Формат разделов:\n",
        "\n",
        "Задание N\n",
        "\n",
        "Решение\n"
      ]
    },
    {
      "cell_type": "code",
      "execution_count": 1,
      "metadata": {},
      "outputs": [],
      "source": [
        "import numpy as np\n",
        "np.set_printoptions(precision=6, suppress=True)\n",
        "\n"
      ]
    },
    {
      "cell_type": "markdown",
      "metadata": {},
      "source": [
        "## Задание 1\n",
        "1. Задать массив $X$ несколькими способами.\n",
        "\n",
        "$$X=\\left[-15, -14, -13, -12, -11, -10, -9, -8, -7, -6, -5, -4, -3, -2, -1, 0, 1, 2, 3, 4, 5, 6, 7, 8, 9, 10, 11, 12, 13, 14, 15\\right].$$\n",
        "\n",
        "2. Найти количество элементов в $X$, обозначить $n$.\n",
        "\n",
        "3. Создать «дубликат» массива $X$, обозначим его как $\\tilde X$. Не изменяя $X$ изменить в $\\tilde X$ элемент, равный $0$, на $1$.\n",
        "\n",
        "4. Задать последовательность $Y$ для $i$ от $a$ до $b$ (с шагом $h$), где элементы определяются формулой:\n",
        "$$Y_i=\\frac{1}{i},\\quad i\\in\\left\\{a, a+h, a+2h, \\ldots, b\\right\\},\\quad i\\neq 0.$$\n",
        "\n",
        "5. Сгенерировать вложенную последовательность из $X=\\{x_1, x_2, \\ldots, x_n\\}$ (пункт 1) и $Y=\\{y_1, y_2, \\ldots, y_n\\}$ (пункт 4, взять $a=-15$, $b=15$):\n",
        "$$Z=\\left\\{(x_1,y_1),(x_2,y_2),\\ldots,(x_n,y_n)\\right\\}.$$\n",
        "\n",
        "### Решение\n"
      ]
    },
    {
      "cell_type": "code",
      "execution_count": null,
      "metadata": {},
      "outputs": [
        {
          "data": {
            "text/plain": [
              "(array([-15, -14, -13, -12, -11, -10,  -9,  -8,  -7,  -6,  -5,  -4,  -3,\n",
              "         -2,  -1,   0,   1,   2,   3,   4,   5,   6,   7,   8,   9,  10,\n",
              "         11,  12,  13,  14,  15]),\n",
              " 31,\n",
              " array([-15, -14, -13, -12, -11, -10,  -9,  -8,  -7,  -6,  -5,  -4,  -3,\n",
              "         -2,  -1,   1,   1,   2,   3,   4,   5,   6,   7,   8,   9,  10,\n",
              "         11,  12,  13,  14,  15]),\n",
              " array([-0.066667, -0.071429, -0.076923, -0.083333, -0.090909, -0.1     ,\n",
              "        -0.111111, -0.125   , -0.142857, -0.166667]),\n",
              " array([[-15.      ,  -0.066667],\n",
              "        [-14.      ,  -0.071429],\n",
              "        [-13.      ,  -0.076923],\n",
              "        [-12.      ,  -0.083333],\n",
              "        [-11.      ,  -0.090909]]))"
            ]
          },
          "execution_count": 2,
          "metadata": {},
          "output_type": "execute_result"
        }
      ],
      "source": [
        "X1 = np.arange(-15, 16)\n",
        "X2 = np.linspace(-15, 15, 31, dtype=int)\n",
        "X3 = np.array(list(range(-15, 16)))\n",
        "\n",
        "n = X1.size\n",
        "\n",
        "X_tilde = X1.copy()\n",
        "X_tilde[X_tilde == 0] = 1\n",
        "\n",
        "a, b, h = -15, 15, 1\n",
        "Y_idx = np.arange(a, b + h, h)\n",
        "Y = np.zeros_like(Y_idx, dtype=float)\n",
        "mask = Y_idx != 0\n",
        "Y[mask] = 1.0 / Y_idx[mask]\n",
        "Y[~mask] = np.nan\n",
        "\n",
        "Z = np.column_stack((X1, Y))\n",
        "\n",
        "X1, n, X_tilde, Y[:10], Z[:5]\n"
      ]
    },
    {
      "cell_type": "markdown",
      "metadata": {},
      "source": [
        "## Задание 2\n",
        "В одномерном массиве, состоящем из $n$ вещественных элементов, вычислить:\n",
        "- сумму положительных элементов массива;\n",
        "- произведение элементов массива, расположенных между максимальным по модулю и минимальным по модулю элементами;\n",
        "- сумму элементов массива с нечетными номерами;\n",
        "- сумму элементов массива, расположенных между первым и последним отрицательными элементами;\n",
        "- упорядочить элементы массива по возрастанию;\n",
        "- упорядочить элементы массива по убыванию;\n",
        "- сжать массив, удалив из него все элементы, модуль которых не превышает 1.\n",
        "\n",
        "Входные данные смоделировать самостоятельно.\n",
        "\n",
        "### Решение\n"
      ]
    },
    {
      "cell_type": "code",
      "execution_count": null,
      "metadata": {},
      "outputs": [
        {
          "data": {
            "text/plain": [
              "(np.float64(13.377491275164463),\n",
              " np.float64(0.42116215218939435),\n",
              " np.float64(-5.067906497860542),\n",
              " np.float64(0.2531022423559135),\n",
              " array([-3.90207 , -2.604359, -2.079968, -1.917765, -1.718585]),\n",
              " array([2.254482, 1.881129, 1.758796, 1.756901, 1.555584]),\n",
              " array([-2.079968,  1.500902,  1.881129, -3.90207 , -2.604359, -1.706088,\n",
              "         1.758796,  1.555584,  2.254482, -1.718585]))"
            ]
          },
          "execution_count": 3,
          "metadata": {},
          "output_type": "execute_result"
        }
      ],
      "source": [
        "rng = np.random.default_rng(42)\n",
        "arr = rng.normal(loc=0.0, scale=2.0, size=20)\n",
        "\n",
        "sum_pos = arr[arr > 0].sum()\n",
        "\n",
        "abs_idx_min = np.argmin(np.abs(arr))\n",
        "abs_idx_max = np.argmax(np.abs(arr))\n",
        "lo, hi = sorted((abs_idx_min, abs_idx_max))\n",
        "prod_between = np.prod(arr[lo+1:hi]) if hi - lo > 1 else 1.0\n",
        "\n",
        "sum_odd_idx = arr[1::2].sum()\n",
        "\n",
        "neg_indices = np.where(arr < 0)[0]\n",
        "if neg_indices.size >= 2:\n",
        "    i1, i2 = neg_indices[0], neg_indices[-1]\n",
        "    sum_between_negs = arr[i1+1:i2].sum()\n",
        "else:\n",
        "    sum_between_negs = 0.0\n",
        "\n",
        "sorted_asc = np.sort(arr)\n",
        "sorted_desc = np.sort(arr)[::-1]\n",
        "\n",
        "compressed = arr[np.abs(arr) > 1]\n",
        "\n",
        "sum_pos, prod_between, sum_odd_idx, sum_between_negs, sorted_asc[:5], sorted_desc[:5], compressed[:10]\n"
      ]
    },
    {
      "cell_type": "markdown",
      "metadata": {},
      "source": [
        "## Задание 3\n",
        "Для заданной матрицы размером 8 на 8 найти такие $k$, что $k$-я строка матрицы совпадает с $k$-м столбцом.\n",
        "\n",
        "Найти сумму элементов в тех строках, которые содержат хотя бы один отрицательный элемент.\n",
        "\n",
        "### Решение\n"
      ]
    },
    {
      "cell_type": "code",
      "execution_count": 4,
      "metadata": {},
      "outputs": [
        {
          "data": {
            "text/plain": [
              "(array([[ 2,  1,  0, -2, -1, -3, -3, -3],\n",
              "        [-2,  2,  1,  3,  0,  1,  3,  2],\n",
              "        [ 1,  0,  0,  3, -2,  2,  1, -3],\n",
              "        [-1,  3,  0, -3,  2,  2,  2, -2],\n",
              "        [-3,  3, -3,  0, -3, -1,  0, -1],\n",
              "        [-1, -3, -3, -3, -3,  1,  0,  1],\n",
              "        [-2,  1,  2, -1,  0,  3,  2,  3],\n",
              "        [-1,  1,  3,  1,  2,  1,  1, -1]]),\n",
              " [],\n",
              " array([ -9,  10,   2,   3,  -8, -11,   8,   7]))"
            ]
          },
          "execution_count": 4,
          "metadata": {},
          "output_type": "execute_result"
        }
      ],
      "source": [
        "rng = np.random.default_rng(0)\n",
        "M = rng.integers(-3, 4, size=(8, 8))\n",
        "\n",
        "k_matches = [k for k in range(M.shape[0]) if np.array_equal(M[k, :], M[:, k])]\n",
        "\n",
        "row_has_neg = (M < 0).any(axis=1)\n",
        "sum_rows_with_neg = M[row_has_neg].sum(axis=1)\n",
        "\n",
        "M, k_matches, sum_rows_with_neg\n"
      ]
    },
    {
      "cell_type": "markdown",
      "metadata": {},
      "source": [
        "## Задание 4\n",
        "Преобразовать вектор целых чисел в матричное двоичное представление.\n",
        "\n",
        "Например, вектору $(0, 1, 2, 3, 4, 5, 6, 7)$ будет соответствовать матрица\n",
        "$$\n",
        "\\begin{pmatrix}\n",
        "0 & 0 & 0 \\\\\n",
        "0 & 0 & 1 \\\\\n",
        "0 & 1 & 0 \\\\\n",
        "0 & 1 & 1 \\\\\n",
        "1 & 0 & 0 \\\\\n",
        "1 & 0 & 1 \\\\\n",
        "1 & 1 & 0 \\\\\n",
        "1 & 1 & 1\n",
        "\\end{pmatrix}.\n",
        "$$\n",
        "\n",
        "### Решение\n"
      ]
    },
    {
      "cell_type": "code",
      "execution_count": null,
      "metadata": {},
      "outputs": [
        {
          "data": {
            "text/plain": [
              "(array([0, 1, 2, 3, 4, 5, 6, 7]),\n",
              " array([[0, 0, 0],\n",
              "        [0, 0, 1],\n",
              "        [0, 1, 0],\n",
              "        [0, 1, 1],\n",
              "        [1, 0, 0],\n",
              "        [1, 0, 1],\n",
              "        [1, 1, 0],\n",
              "        [1, 1, 1]]))"
            ]
          },
          "execution_count": 5,
          "metadata": {},
          "output_type": "execute_result"
        }
      ],
      "source": [
        "def to_binary_matrix(vec: np.ndarray, bits: int | None = None) -> np.ndarray:\n",
        "    vec = np.asarray(vec, dtype=int)\n",
        "    if bits is None:\n",
        "        max_val = vec.max(initial=0)\n",
        "        bits = max(1, int(np.ceil(np.log2(max_val + 1))))\n",
        "    powers = 2 ** np.arange(bits - 1, -1, -1, dtype=int)\n",
        "    return ((vec[:, None] // powers) % 2).astype(int)\n",
        "\n",
        "v = np.arange(8)\n",
        "bin_mat = to_binary_matrix(v)\n",
        "v, bin_mat\n"
      ]
    },
    {
      "cell_type": "markdown",
      "metadata": {},
      "source": [
        "## Задание 5\n",
        "Рассмотрим два массива $A$ и $B$ формы $(8, 3)$ и $(2, 2)$. Необходимо найти строки $A$, которые содержат элементы каждой строки $B$ независимо от порядка элементов в $B$. Например, если\n",
        "$$\n",
        "A = \\begin{pmatrix}\n",
        "0 & 0 & 3 \\\\\n",
        "1 & 1 & 2 \\\\\n",
        "4 & 3 & 1 \\\\\n",
        "3 & 1 & 1 \\\\\n",
        "1 & 3 & 1 \\\\\n",
        "2 & 0 & 3 \\\\\n",
        "2 & 0 & 1 \\\\\n",
        "0 & 0 & 3\n",
        "\\end{pmatrix},\\quad\n",
        "B = \\begin{pmatrix}\n",
        "0 & 3 \\\\\n",
        "0 & 2 \\\\\n",
        "\\end{pmatrix},\n",
        "$$\n",
        "результат будет $\\left(0, 5, 6, 7\\right)$.\n",
        "\n",
        "### Решение\n"
      ]
    },
    {
      "cell_type": "code",
      "execution_count": null,
      "metadata": {},
      "outputs": [
        {
          "data": {
            "text/plain": [
              "[5]"
            ]
          },
          "execution_count": 6,
          "metadata": {},
          "output_type": "execute_result"
        }
      ],
      "source": [
        "A = np.array([\n",
        "    [0, 0, 3],\n",
        "    [1, 1, 2],\n",
        "    [4, 3, 1],\n",
        "    [3, 1, 1],\n",
        "    [1, 3, 1],\n",
        "    [2, 0, 3],\n",
        "    [2, 0, 1],\n",
        "    [0, 0, 3],\n",
        "])\n",
        "B = np.array([\n",
        "    [0, 3],\n",
        "    [0, 2],\n",
        "])\n",
        "\n",
        "from collections import Counter\n",
        "\n",
        "indices = []\n",
        "for i, row in enumerate(A):\n",
        "    countsA = Counter(row)\n",
        "    ok = True\n",
        "    for rowB in B:\n",
        "        cntB = Counter(rowB)\n",
        "        if any(countsA[val] < need for val, need in cntB.items()):\n",
        "            ok = False\n",
        "            break\n",
        "    if ok:\n",
        "        indices.append(i)\n",
        "\n",
        "indices\n"
      ]
    },
    {
      "cell_type": "markdown",
      "metadata": {},
      "source": []
    }
  ],
  "metadata": {
    "kernelspec": {
      "display_name": "Python 3",
      "language": "python",
      "name": "python3"
    },
    "language_info": {
      "codemirror_mode": {
        "name": "ipython",
        "version": 3
      },
      "file_extension": ".py",
      "mimetype": "text/x-python",
      "name": "python",
      "nbconvert_exporter": "python",
      "pygments_lexer": "ipython3",
      "version": "3.13.6"
    }
  },
  "nbformat": 4,
  "nbformat_minor": 2
}
